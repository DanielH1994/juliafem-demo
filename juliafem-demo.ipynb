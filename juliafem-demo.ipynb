{
 "cells": [
  {
   "cell_type": "markdown",
   "metadata": {},
   "source": [
    "# Using JuliaFEM"
   ]
  },
  {
   "cell_type": "code",
   "execution_count": null,
   "metadata": {},
   "outputs": [],
   "source": [
    "using JuliaFEM"
   ]
  },
  {
   "cell_type": "code",
   "execution_count": null,
   "metadata": {},
   "outputs": [],
   "source": [
    "meshfile = download(\"https://github.com/JuliaFEM/JuliaFEM.jl/raw/master/examples/linear_static/JuliaFEMSMP18.med\")\n",
    "mesh = aster_read_mesh(meshfile)"
   ]
  },
  {
   "cell_type": "code",
   "execution_count": null,
   "metadata": {},
   "outputs": [],
   "source": [
    "model = Problem(Elasticity, \"OTHER\", 3)\n",
    "model_elements = create_elements(mesh, \"OTHER\")"
   ]
  },
  {
   "cell_type": "code",
   "execution_count": null,
   "metadata": {},
   "outputs": [],
   "source": [
    "update!(model_elements, \"youngs modulus\", 208.0E3)\n",
    "update!(model_elements, \"poissons ratio\", 0.30)\n",
    "update!(model_elements, \"density\", 7.80E-9)\n",
    "add_elements!(model, model_elements)"
   ]
  },
  {
   "cell_type": "code",
   "execution_count": null,
   "metadata": {},
   "outputs": [],
   "source": [
    "function is_not_Seg3_or_Tri6(element)\n",
    "    return !isa(element, Union{Element{Seg3}, Element{Tri6}})\n",
    "end\n",
    "\n",
    "filter!(is_not_Seg3_or_Tri6, model.elements)"
   ]
  },
  {
   "cell_type": "code",
   "execution_count": null,
   "metadata": {},
   "outputs": [],
   "source": [
    "function add_nodes_at_certain_plane_to_node_set!(mesh, name, vector_id, distance,\n",
    "                                                 radius=6.0)\n",
    "    for (node, coords) in mesh.nodes\n",
    "        if isapprox(coords[vector_id], distance, atol=radius)\n",
    "            add_node_to_node_set!(mesh, name, node)\n",
    "        end\n",
    "    end\n",
    "    return nothing\n",
    "end"
   ]
  },
  {
   "cell_type": "code",
   "execution_count": null,
   "metadata": {},
   "outputs": [],
   "source": [
    "add_nodes_at_certain_plane_to_node_set!(mesh, :mid_fixed, 2, 50.0)"
   ]
  },
  {
   "cell_type": "code",
   "execution_count": null,
   "metadata": {},
   "outputs": [],
   "source": [
    "ipoint = find_nearest_nodes(mesh, [165.0, 88.0, 10],3)\n",
    "for poi in ipoint\n",
    "    add_node_to_node_set!(mesh, :mid_fixed, poi)\n",
    "end"
   ]
  },
  {
   "cell_type": "code",
   "execution_count": null,
   "metadata": {},
   "outputs": [],
   "source": [
    "fixed = Problem(Dirichlet, \"fixed\", 3, \"displacement\")\n",
    "fixed_elements = create_nodal_elements(mesh, \"mid_fixed\")\n",
    "add_elements!(fixed, fixed_elements)\n",
    "update!(fixed_elements, \"displacement 1\", 0.0)\n",
    "update!(fixed_elements, \"displacement 2\", 0.0)\n",
    "update!(fixed_elements, \"displacement 3\", 0.0)"
   ]
  },
  {
   "cell_type": "code",
   "execution_count": null,
   "metadata": {},
   "outputs": [],
   "source": [
    "update!(model_elements, \"displacement load 1\", 1.0)"
   ]
  },
  {
   "cell_type": "code",
   "execution_count": null,
   "metadata": {},
   "outputs": [],
   "source": [
    "analysis = Analysis(Linear, model, fixed)"
   ]
  },
  {
   "cell_type": "code",
   "execution_count": null,
   "metadata": {},
   "outputs": [],
   "source": [
    "xdmf = Xdmf(\"model_results\"; overwrite=true)\n",
    "add_results_writer!(analysis, xdmf)"
   ]
  },
  {
   "cell_type": "code",
   "execution_count": null,
   "metadata": {},
   "outputs": [],
   "source": [
    "push!(model.postprocess_fields, \"stress\")"
   ]
  },
  {
   "cell_type": "code",
   "execution_count": null,
   "metadata": {},
   "outputs": [],
   "source": [
    "run!(analysis)"
   ]
  },
  {
   "cell_type": "code",
   "execution_count": null,
   "metadata": {},
   "outputs": [],
   "source": [
    "close(xdmf)"
   ]
  },
  {
   "cell_type": "code",
   "execution_count": null,
   "metadata": {},
   "outputs": [],
   "source": [
    "using Test"
   ]
  },
  {
   "cell_type": "code",
   "execution_count": null,
   "metadata": {},
   "outputs": [],
   "source": [
    "@test isfile(\"model_results.xmf\")\n",
    "@test isfile(\"model_results.h5\")"
   ]
  },
  {
   "cell_type": "code",
   "execution_count": null,
   "metadata": {},
   "outputs": [],
   "source": [
    "using LinearAlgebra\n",
    "time = 0.0\n",
    "u = analysis(\"displacement\", time)\n",
    "u_norms = Dict(i => norm(j) for (i, j) in u)\n",
    "@test isapprox(maximum(values(u_norms)),2.4052929896922337)"
   ]
  },
  {
   "cell_type": "code",
   "execution_count": null,
   "metadata": {},
   "outputs": [],
   "source": []
  }
 ],
 "metadata": {
  "kernelspec": {
   "display_name": "Julia 1.2.0",
   "language": "julia",
   "name": "julia-1.2"
  },
  "language_info": {
   "file_extension": ".jl",
   "mimetype": "application/julia",
   "name": "julia",
   "version": "1.2.0"
  }
 },
 "nbformat": 4,
 "nbformat_minor": 2
}
